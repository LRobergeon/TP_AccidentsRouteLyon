{
 "cells": [
  {
   "cell_type": "code",
   "execution_count": 5,
   "metadata": {
    "collapsed": true
   },
   "outputs": [],
   "source": [
    "from apyori import apriori\n",
    "import pandas as pd\n",
    "import os"
   ]
  },
  {
   "cell_type": "code",
   "execution_count": 19,
   "metadata": {},
   "outputs": [
    {
     "ename": "ModuleNotFoundError",
     "evalue": "No module named 'Orange'",
     "output_type": "error",
     "traceback": [
      "\u001b[0;31m---------------------------------------------------------------------------\u001b[0m",
      "\u001b[0;31mModuleNotFoundError\u001b[0m                       Traceback (most recent call last)",
      "\u001b[0;32m<ipython-input-19-252fcf2e726c>\u001b[0m in \u001b[0;36m<module>\u001b[0;34m()\u001b[0m\n\u001b[0;32m----> 1\u001b[0;31m \u001b[0;32mimport\u001b[0m \u001b[0mOrange\u001b[0m\u001b[0;34m\u001b[0m\u001b[0m\n\u001b[0m",
      "\u001b[0;31mModuleNotFoundError\u001b[0m: No module named 'Orange'"
     ]
    }
   ],
   "source": [
    "import Orange\n"
   ]
  },
  {
   "cell_type": "code",
   "execution_count": 3,
   "metadata": {},
   "outputs": [],
   "source": [
    "merged_data = pd.read_csv('out.csv')\n",
    "colonnes_inutiles = ['num_veh','Num_Acc',\n",
    "                                'locp',\n",
    "                                'actp',\n",
    "                                'etatp',\n",
    "                                'catv',\n",
    "                                'hrmn',\n",
    "                                'mois',\n",
    "                                'jour',\n",
    "                                'catvopp',\n",
    "                                'occutc',\n",
    "                                'place']\n",
    "\n",
    "merged_data = merged_data.drop(colonnes_inutiles,axis = 1)\n",
    "\n",
    "\n",
    "y = merged_data.grav\n",
    "merged_data_sans_grav = merged_data.drop(['grav'],axis = 1)"
   ]
  },
  {
   "cell_type": "code",
   "execution_count": null,
   "metadata": {
    "collapsed": true
   },
   "outputs": [],
   "source": []
  },
  {
   "cell_type": "code",
   "execution_count": 4,
   "metadata": {
    "collapsed": true
   },
   "outputs": [],
   "source": [
    "def mise_en_place_apriori(data_accident, min_sup=0.40, min_conf=0.90):\n",
    "    \n",
    "    listing_apriori_bis = []\n",
    "\n",
    "    for indexe in data_accident.index:\n",
    "        event = []\n",
    "        for colonne in data_accident.columns:\n",
    "            if not (data_accident[colonne][indexe] == 0):\n",
    "                event.append(colonne + str(data_accident[colonne][indexe]))\n",
    "        listing_apriori_bis.append(event)\n",
    "\n",
    "    results_apriori_decedes = list(apriori(listing_apriori_bis, min_support = min_sup, min_confidence = min_conf))\n",
    "\n",
    "    tableau_apriori = []\n",
    "\n",
    "    for x in range(0,len(results_apriori_decedes)):\n",
    "        event = [list(results_apriori_decedes[x].items), results_apriori_decedes[x].support, results_apriori_decedes[x].ordered_statistics[0].confidence]\n",
    "        tableau_apriori.append(event)\n",
    "\n",
    "    tableau_apriori = pd.DataFrame(tableau_apriori, columns=['transaction','support','confiance'])\n",
    "    os.system('say \"fini\"')\n",
    "    return tableau_apriori\n"
   ]
  },
  {
   "cell_type": "code",
   "execution_count": null,
   "metadata": {
    "collapsed": true
   },
   "outputs": [],
   "source": []
  },
  {
   "cell_type": "code",
   "execution_count": 6,
   "metadata": {
    "collapsed": true
   },
   "outputs": [],
   "source": [
    "apriori_sur_tout = mise_en_place_apriori(merged_data_sans_grav)\n",
    "apriori_sur_morts = mise_en_place_apriori(merged_data[merged_data.grav == 2].drop('grav', axis=1))\n",
    "apriori_sur_indemmes = mise_en_place_apriori(merged_data[merged_data.grav == 1].drop('grav', axis=1))"
   ]
  },
  {
   "cell_type": "code",
   "execution_count": 7,
   "metadata": {},
   "outputs": [
    {
     "data": {
      "text/html": [
       "<div>\n",
       "<style>\n",
       "    .dataframe thead tr:only-child th {\n",
       "        text-align: right;\n",
       "    }\n",
       "\n",
       "    .dataframe thead th {\n",
       "        text-align: left;\n",
       "    }\n",
       "\n",
       "    .dataframe tbody tr th {\n",
       "        vertical-align: top;\n",
       "    }\n",
       "</style>\n",
       "<table border=\"1\" class=\"dataframe\">\n",
       "  <thead>\n",
       "    <tr style=\"text-align: right;\">\n",
       "      <th></th>\n",
       "      <th>transaction</th>\n",
       "      <th>support</th>\n",
       "      <th>confiance</th>\n",
       "    </tr>\n",
       "  </thead>\n",
       "  <tbody>\n",
       "    <tr>\n",
       "      <th>0</th>\n",
       "      <td>[secu11.0, catv_gen2]</td>\n",
       "      <td>0.601629</td>\n",
       "      <td>0.928051</td>\n",
       "    </tr>\n",
       "    <tr>\n",
       "      <th>1</th>\n",
       "      <td>[secu11.0, agg1, catv_gen2]</td>\n",
       "      <td>0.416047</td>\n",
       "      <td>0.920300</td>\n",
       "    </tr>\n",
       "    <tr>\n",
       "      <th>2</th>\n",
       "      <td>[secu11.0, atm1, catv_gen2]</td>\n",
       "      <td>0.462227</td>\n",
       "      <td>0.925910</td>\n",
       "    </tr>\n",
       "    <tr>\n",
       "      <th>3</th>\n",
       "      <td>[secu11.0, catu1, catv_gen2]</td>\n",
       "      <td>0.447142</td>\n",
       "      <td>0.921195</td>\n",
       "    </tr>\n",
       "    <tr>\n",
       "      <th>4</th>\n",
       "      <td>[secu11.0, catvopp_gen2, catv_gen2]</td>\n",
       "      <td>0.448468</td>\n",
       "      <td>0.947163</td>\n",
       "    </tr>\n",
       "    <tr>\n",
       "      <th>5</th>\n",
       "      <td>[secu11.0, int1, catv_gen2]</td>\n",
       "      <td>0.482185</td>\n",
       "      <td>0.925021</td>\n",
       "    </tr>\n",
       "    <tr>\n",
       "      <th>6</th>\n",
       "      <td>[secu11.0, lum1, catv_gen2]</td>\n",
       "      <td>0.415492</td>\n",
       "      <td>0.923103</td>\n",
       "    </tr>\n",
       "  </tbody>\n",
       "</table>\n",
       "</div>"
      ],
      "text/plain": [
       "                           transaction   support  confiance\n",
       "0                [secu11.0, catv_gen2]  0.601629   0.928051\n",
       "1          [secu11.0, agg1, catv_gen2]  0.416047   0.920300\n",
       "2          [secu11.0, atm1, catv_gen2]  0.462227   0.925910\n",
       "3         [secu11.0, catu1, catv_gen2]  0.447142   0.921195\n",
       "4  [secu11.0, catvopp_gen2, catv_gen2]  0.448468   0.947163\n",
       "5          [secu11.0, int1, catv_gen2]  0.482185   0.925021\n",
       "6          [secu11.0, lum1, catv_gen2]  0.415492   0.923103"
      ]
     },
     "execution_count": 7,
     "metadata": {},
     "output_type": "execute_result"
    }
   ],
   "source": [
    "apriori_sur_tout"
   ]
  },
  {
   "cell_type": "code",
   "execution_count": 8,
   "metadata": {
    "collapsed": true
   },
   "outputs": [],
   "source": [
    "def intersection_2_listes(L1, L2):\n",
    "    \"\"\"List[Int] * List[Int] -> List[Int]\n",
    "    Retourne l'intersection des deux listes L1 et L2.\"\"\"\n",
    " \n",
    "    result = []\n",
    " \n",
    "    for n in L1:\n",
    "        for x in L2:\n",
    "            if n == x and n not in result:\n",
    "                result.append(n)\n",
    "    result.sort()\n",
    " \n",
    "    return result"
   ]
  },
  {
   "cell_type": "code",
   "execution_count": 9,
   "metadata": {
    "collapsed": true
   },
   "outputs": [],
   "source": [
    "association_tout = list(apriori_sur_tout.transaction)\n",
    "association_indemmes = list(apriori_sur_indemmes.transaction)\n",
    "association_morts = list(apriori_sur_morts.transaction)\n",
    "\n",
    "tout_inter_morts = intersection_2_listes(association_tout, association_morts)\n",
    "tout_inter_indemmes = intersection_2_listes(association_tout,association_indemmes)\n",
    "indemmes_inter_morts = intersection_2_listes(association_indemmes,association_morts)"
   ]
  },
  {
   "cell_type": "code",
   "execution_count": 10,
   "metadata": {},
   "outputs": [
    {
     "data": {
      "text/plain": [
       "[['secu11.0', 'catv_gen2']]"
      ]
     },
     "execution_count": 10,
     "metadata": {},
     "output_type": "execute_result"
    }
   ],
   "source": [
    "tout_inter_morts"
   ]
  },
  {
   "cell_type": "code",
   "execution_count": 11,
   "metadata": {},
   "outputs": [
    {
     "data": {
      "text/plain": [
       "[['secu11.0', 'agg1', 'catv_gen2'], ['secu11.0', 'catu1', 'catv_gen2']]"
      ]
     },
     "execution_count": 11,
     "metadata": {},
     "output_type": "execute_result"
    }
   ],
   "source": [
    "tout_inter_indemmes"
   ]
  },
  {
   "cell_type": "code",
   "execution_count": 12,
   "metadata": {},
   "outputs": [
    {
     "data": {
      "text/plain": [
       "[]"
      ]
     },
     "execution_count": 12,
     "metadata": {},
     "output_type": "execute_result"
    }
   ],
   "source": [
    "indemmes_inter_morts"
   ]
  },
  {
   "cell_type": "code",
   "execution_count": 13,
   "metadata": {},
   "outputs": [
    {
     "data": {
      "text/html": [
       "<div>\n",
       "<style>\n",
       "    .dataframe thead tr:only-child th {\n",
       "        text-align: right;\n",
       "    }\n",
       "\n",
       "    .dataframe thead th {\n",
       "        text-align: left;\n",
       "    }\n",
       "\n",
       "    .dataframe tbody tr th {\n",
       "        vertical-align: top;\n",
       "    }\n",
       "</style>\n",
       "<table border=\"1\" class=\"dataframe\">\n",
       "  <thead>\n",
       "    <tr style=\"text-align: right;\">\n",
       "      <th></th>\n",
       "      <th>transaction</th>\n",
       "      <th>support</th>\n",
       "      <th>confiance</th>\n",
       "    </tr>\n",
       "  </thead>\n",
       "  <tbody>\n",
       "    <tr>\n",
       "      <th>0</th>\n",
       "      <td>[agg1, int1]</td>\n",
       "      <td>0.728389</td>\n",
       "      <td>0.911068</td>\n",
       "    </tr>\n",
       "    <tr>\n",
       "      <th>1</th>\n",
       "      <td>[int1, catv_gen2]</td>\n",
       "      <td>0.631714</td>\n",
       "      <td>0.910096</td>\n",
       "    </tr>\n",
       "    <tr>\n",
       "      <th>2</th>\n",
       "      <td>[secu11.0, catv_gen2]</td>\n",
       "      <td>0.433248</td>\n",
       "      <td>0.964692</td>\n",
       "    </tr>\n",
       "    <tr>\n",
       "      <th>3</th>\n",
       "      <td>[secu11.0, int1]</td>\n",
       "      <td>0.411253</td>\n",
       "      <td>0.915718</td>\n",
       "    </tr>\n",
       "    <tr>\n",
       "      <th>4</th>\n",
       "      <td>[agg1, int1, atm1]</td>\n",
       "      <td>0.544757</td>\n",
       "      <td>0.907155</td>\n",
       "    </tr>\n",
       "    <tr>\n",
       "      <th>5</th>\n",
       "      <td>[agg1, catu1, int1]</td>\n",
       "      <td>0.545780</td>\n",
       "      <td>0.905772</td>\n",
       "    </tr>\n",
       "    <tr>\n",
       "      <th>6</th>\n",
       "      <td>[agg1, int1, catv_gen2]</td>\n",
       "      <td>0.532481</td>\n",
       "      <td>0.922872</td>\n",
       "    </tr>\n",
       "    <tr>\n",
       "      <th>7</th>\n",
       "      <td>[agg1, catvopp_gen2, int1]</td>\n",
       "      <td>0.543223</td>\n",
       "      <td>0.906143</td>\n",
       "    </tr>\n",
       "    <tr>\n",
       "      <th>8</th>\n",
       "      <td>[sexe1, agg1, int1]</td>\n",
       "      <td>0.541176</td>\n",
       "      <td>0.909716</td>\n",
       "    </tr>\n",
       "    <tr>\n",
       "      <th>9</th>\n",
       "      <td>[int1, atm1, catv_gen2]</td>\n",
       "      <td>0.441432</td>\n",
       "      <td>0.905561</td>\n",
       "    </tr>\n",
       "    <tr>\n",
       "      <th>10</th>\n",
       "      <td>[catu1, int1, catv_gen2]</td>\n",
       "      <td>0.413811</td>\n",
       "      <td>0.916195</td>\n",
       "    </tr>\n",
       "    <tr>\n",
       "      <th>11</th>\n",
       "      <td>[catvopp_gen2, int1, catv_gen2]</td>\n",
       "      <td>0.547826</td>\n",
       "      <td>0.910714</td>\n",
       "    </tr>\n",
       "    <tr>\n",
       "      <th>12</th>\n",
       "      <td>[sexe1, int1, catv_gen2]</td>\n",
       "      <td>0.435806</td>\n",
       "      <td>0.916129</td>\n",
       "    </tr>\n",
       "    <tr>\n",
       "      <th>13</th>\n",
       "      <td>[agg1, int1, catvopp_gen2, atm1]</td>\n",
       "      <td>0.400512</td>\n",
       "      <td>0.902074</td>\n",
       "    </tr>\n",
       "    <tr>\n",
       "      <th>14</th>\n",
       "      <td>[sexe1, agg1, int1, atm1]</td>\n",
       "      <td>0.413811</td>\n",
       "      <td>0.904922</td>\n",
       "    </tr>\n",
       "    <tr>\n",
       "      <th>15</th>\n",
       "      <td>[sexe1, agg1, catu1, int1]</td>\n",
       "      <td>0.443478</td>\n",
       "      <td>0.903125</td>\n",
       "    </tr>\n",
       "    <tr>\n",
       "      <th>16</th>\n",
       "      <td>[agg1, catvopp_gen2, int1, catv_gen2]</td>\n",
       "      <td>0.452685</td>\n",
       "      <td>0.923800</td>\n",
       "    </tr>\n",
       "  </tbody>\n",
       "</table>\n",
       "</div>"
      ],
      "text/plain": [
       "                              transaction   support  confiance\n",
       "0                            [agg1, int1]  0.728389   0.911068\n",
       "1                       [int1, catv_gen2]  0.631714   0.910096\n",
       "2                   [secu11.0, catv_gen2]  0.433248   0.964692\n",
       "3                        [secu11.0, int1]  0.411253   0.915718\n",
       "4                      [agg1, int1, atm1]  0.544757   0.907155\n",
       "5                     [agg1, catu1, int1]  0.545780   0.905772\n",
       "6                 [agg1, int1, catv_gen2]  0.532481   0.922872\n",
       "7              [agg1, catvopp_gen2, int1]  0.543223   0.906143\n",
       "8                     [sexe1, agg1, int1]  0.541176   0.909716\n",
       "9                 [int1, atm1, catv_gen2]  0.441432   0.905561\n",
       "10               [catu1, int1, catv_gen2]  0.413811   0.916195\n",
       "11        [catvopp_gen2, int1, catv_gen2]  0.547826   0.910714\n",
       "12               [sexe1, int1, catv_gen2]  0.435806   0.916129\n",
       "13       [agg1, int1, catvopp_gen2, atm1]  0.400512   0.902074\n",
       "14              [sexe1, agg1, int1, atm1]  0.413811   0.904922\n",
       "15             [sexe1, agg1, catu1, int1]  0.443478   0.903125\n",
       "16  [agg1, catvopp_gen2, int1, catv_gen2]  0.452685   0.923800"
      ]
     },
     "execution_count": 13,
     "metadata": {},
     "output_type": "execute_result"
    }
   ],
   "source": [
    "apriori_sur_morts"
   ]
  },
  {
   "cell_type": "code",
   "execution_count": null,
   "metadata": {
    "collapsed": true
   },
   "outputs": [],
   "source": []
  },
  {
   "cell_type": "code",
   "execution_count": null,
   "metadata": {
    "collapsed": true
   },
   "outputs": [],
   "source": []
  },
  {
   "cell_type": "code",
   "execution_count": null,
   "metadata": {
    "collapsed": true
   },
   "outputs": [],
   "source": []
  },
  {
   "cell_type": "code",
   "execution_count": null,
   "metadata": {
    "collapsed": true
   },
   "outputs": [],
   "source": []
  },
  {
   "cell_type": "code",
   "execution_count": null,
   "metadata": {
    "collapsed": true
   },
   "outputs": [],
   "source": []
  },
  {
   "cell_type": "code",
   "execution_count": null,
   "metadata": {
    "collapsed": true
   },
   "outputs": [],
   "source": []
  },
  {
   "cell_type": "code",
   "execution_count": null,
   "metadata": {
    "collapsed": true
   },
   "outputs": [],
   "source": []
  },
  {
   "cell_type": "code",
   "execution_count": null,
   "metadata": {
    "collapsed": true
   },
   "outputs": [],
   "source": []
  },
  {
   "cell_type": "code",
   "execution_count": null,
   "metadata": {
    "collapsed": true
   },
   "outputs": [],
   "source": []
  },
  {
   "cell_type": "code",
   "execution_count": null,
   "metadata": {
    "collapsed": true
   },
   "outputs": [],
   "source": []
  }
 ],
 "metadata": {
  "kernelspec": {
   "display_name": "Python 3",
   "language": "python",
   "name": "python3"
  },
  "language_info": {
   "codemirror_mode": {
    "name": "ipython",
    "version": 3
   },
   "file_extension": ".py",
   "mimetype": "text/x-python",
   "name": "python",
   "nbconvert_exporter": "python",
   "pygments_lexer": "ipython3",
   "version": "3.6.0"
  }
 },
 "nbformat": 4,
 "nbformat_minor": 2
}
